{
  "nbformat": 4,
  "nbformat_minor": 0,
  "metadata": {
    "colab": {
      "name": "Cartesian-Round-1 - Assignment.ipynb",
      "provenance": [],
      "collapsed_sections": []
    },
    "kernelspec": {
      "name": "python3",
      "display_name": "Python 3"
    },
    "language_info": {
      "name": "python"
    },
    "accelerator": "TPU",
    "gpuClass": "standard"
  },
  "cells": [
    {
      "cell_type": "markdown",
      "source": [
        " **PROGRAMMING**\n",
        "\n",
        "---\n",
        "\n",
        "\n",
        " **PROBLEM STATEMENT**\n",
        "\n",
        " The program takes input a short abstract\n",
        "and outputs the following\n",
        "\n",
        "1) Prints each word in reverse.\n",
        "\n",
        "2) Prints Top 2 occurring words in\n",
        "sorted order. The words that have occurred most of the time.\n",
        "\n",
        "\n",
        "---\n",
        "\n",
        "**SAMPLE INPUT**\n",
        "\n",
        "\"This declaration represents a\n",
        "political commitment among declaration partners to advance a positive vision\n",
        "for the Internet in this era of a united europe\"\n",
        "\n",
        "**SAMPLE OUTPUT**\n",
        "\n",
        "\"Europe united a of era this in internet the for vision positive a advance to partners declaration among commitment political a represents declaration this\"\n"
      ],
      "metadata": {
        "id": "HLt7hE1LyYvF"
      }
    },
    {
      "cell_type": "code",
      "execution_count": 1,
      "metadata": {
        "colab": {
          "base_uri": "https://localhost:8080/"
        },
        "id": "KGp019jRer8_",
        "outputId": "31b1f02b-bc23-4d18-fd2e-b22ef838b038"
      },
      "outputs": [
        {
          "output_type": "stream",
          "name": "stdout",
          "text": [
            "Mounted at /content/drive\n"
          ]
        }
      ],
      "source": [
        "from google.colab import drive\n",
        "drive.mount('/content/drive')"
      ]
    },
    {
      "cell_type": "code",
      "source": [
        "import nltk\n",
        "nltk.download('punkt')"
      ],
      "metadata": {
        "colab": {
          "base_uri": "https://localhost:8080/"
        },
        "id": "6y9uVPXOgw1g",
        "outputId": "625b4194-a908-437d-bb15-e87704f5b189"
      },
      "execution_count": 3,
      "outputs": [
        {
          "output_type": "stream",
          "name": "stderr",
          "text": [
            "[nltk_data] Downloading package punkt to /root/nltk_data...\n",
            "[nltk_data]   Package punkt is already up-to-date!\n"
          ]
        },
        {
          "output_type": "execute_result",
          "data": {
            "text/plain": [
              "True"
            ]
          },
          "metadata": {},
          "execution_count": 3
        }
      ]
    },
    {
      "cell_type": "markdown",
      "source": [
        "**QUESTION 1**"
      ],
      "metadata": {
        "id": "VF6WeMw2z2Jv"
      }
    },
    {
      "cell_type": "code",
      "source": [
        "text=\"This declaration represents a political commitment among declaration partners to advance a positive vision for the Internet in this era of a united europe\""
      ],
      "metadata": {
        "id": "rt03AXE3k0u3"
      },
      "execution_count": 4,
      "outputs": []
    },
    {
      "cell_type": "code",
      "source": [
        "from nltk.tokenize import sent_tokenize, word_tokenize\n",
        "t_text=word_tokenize(text)\n",
        "print(t_text)"
      ],
      "metadata": {
        "colab": {
          "base_uri": "https://localhost:8080/"
        },
        "id": "Fol3AWmelNDI",
        "outputId": "e340c791-624d-49eb-880b-33fa3ca1541f"
      },
      "execution_count": 5,
      "outputs": [
        {
          "output_type": "stream",
          "name": "stdout",
          "text": [
            "['This', 'declaration', 'represents', 'a', 'political', 'commitment', 'among', 'declaration', 'partners', 'to', 'advance', 'a', 'positive', 'vision', 'for', 'the', 'Internet', 'in', 'this', 'era', 'of', 'a', 'united', 'europe']\n"
          ]
        }
      ]
    },
    {
      "cell_type": "code",
      "source": [
        "import re\n",
        "from nltk.tokenize.treebank import TreebankWordDetokenizer as Detok\n",
        "new_text=t_text[::-1]\n",
        "print(new_text)"
      ],
      "metadata": {
        "colab": {
          "base_uri": "https://localhost:8080/"
        },
        "id": "e67Wrv3AlQqF",
        "outputId": "2da2f1a4-9eae-4392-fd44-8af3d0c42472"
      },
      "execution_count": 6,
      "outputs": [
        {
          "output_type": "stream",
          "name": "stdout",
          "text": [
            "['europe', 'united', 'a', 'of', 'era', 'this', 'in', 'Internet', 'the', 'for', 'vision', 'positive', 'a', 'advance', 'to', 'partners', 'declaration', 'among', 'commitment', 'political', 'a', 'represents', 'declaration', 'This']\n"
          ]
        }
      ]
    },
    {
      "cell_type": "code",
      "source": [
        "detokenizer = Detok()\n",
        "new_text1 = detokenizer.detokenize(new_text)\n",
        "new_text1"
      ],
      "metadata": {
        "colab": {
          "base_uri": "https://localhost:8080/",
          "height": 52
        },
        "id": "8UJ2QE0UqExR",
        "outputId": "bf57c3f0-a383-47d7-b1c1-8d774663e2b9"
      },
      "execution_count": 7,
      "outputs": [
        {
          "output_type": "execute_result",
          "data": {
            "text/plain": [
              "'europe united a of era this in Internet the for vision positive a advance to partners declaration among commitment political a represents declaration This'"
            ],
            "application/vnd.google.colaboratory.intrinsic+json": {
              "type": "string"
            }
          },
          "metadata": {},
          "execution_count": 7
        }
      ]
    },
    {
      "cell_type": "code",
      "source": [
        "import textwrap\n",
        "import nltk.data \n",
        "sent_tokenizer = nltk.data.load('tokenizers/punkt/english.pickle')\n",
        "sentences = sent_tokenizer.tokenize(new_text1)\n",
        "sentences = [sent.capitalize() for sent in sentences]\n",
        "sentences"
      ],
      "metadata": {
        "colab": {
          "base_uri": "https://localhost:8080/"
        },
        "id": "HIhG72xGlh0O",
        "outputId": "e3a7b68e-09d3-4ac0-c23c-443530a229c8"
      },
      "execution_count": 8,
      "outputs": [
        {
          "output_type": "execute_result",
          "data": {
            "text/plain": [
              "['Europe united a of era this in internet the for vision positive a advance to partners declaration among commitment political a represents declaration this']"
            ]
          },
          "metadata": {},
          "execution_count": 8
        }
      ]
    },
    {
      "cell_type": "markdown",
      "source": [
        "**QUESTION 2**"
      ],
      "metadata": {
        "id": "Qvw_xknTz-S9"
      }
    },
    {
      "cell_type": "code",
      "source": [
        "from nltk.probability import FreqDist\n",
        "fdist = FreqDist(t_text)\n",
        "fdist"
      ],
      "metadata": {
        "colab": {
          "base_uri": "https://localhost:8080/"
        },
        "id": "qgtDDlV1p8nw",
        "outputId": "5e5bfc93-f876-43a6-aea3-538a8de8039f"
      },
      "execution_count": 9,
      "outputs": [
        {
          "output_type": "execute_result",
          "data": {
            "text/plain": [
              "FreqDist({'a': 3, 'declaration': 2, 'This': 1, 'represents': 1, 'political': 1, 'commitment': 1, 'among': 1, 'partners': 1, 'to': 1, 'advance': 1, ...})"
            ]
          },
          "metadata": {},
          "execution_count": 9
        }
      ]
    },
    {
      "cell_type": "code",
      "source": [
        "fdist1 = fdist.most_common(2)\n",
        "fdist1"
      ],
      "metadata": {
        "colab": {
          "base_uri": "https://localhost:8080/"
        },
        "id": "6iG34Csdq8UX",
        "outputId": "c990544f-a4d1-43f6-fd0a-2ad39d36759d"
      },
      "execution_count": 10,
      "outputs": [
        {
          "output_type": "execute_result",
          "data": {
            "text/plain": [
              "[('a', 3), ('declaration', 2)]"
            ]
          },
          "metadata": {},
          "execution_count": 10
        }
      ]
    }
  ]
}